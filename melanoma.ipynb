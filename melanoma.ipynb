{
 "cells": [
  {
   "cell_type": "code",
   "execution_count": 1,
   "metadata": {},
   "outputs": [
    {
     "name": "stderr",
     "output_type": "stream",
     "text": [
      "b:\\pythonProjects\\MelanomaClassification\\.venv\\lib\\site-packages\\tqdm\\auto.py:21: TqdmWarning: IProgress not found. Please update jupyter and ipywidgets. See https://ipywidgets.readthedocs.io/en/stable/user_install.html\n",
      "  from .autonotebook import tqdm as notebook_tqdm\n",
      "b:\\pythonProjects\\MelanomaClassification\\.venv\\lib\\site-packages\\albumentations\\__init__.py:24: UserWarning: A new version of Albumentations is available: 1.4.24 (you have 1.4.20). Upgrade using: pip install -U albumentations. To disable automatic update checks, set the environment variable NO_ALBUMENTATIONS_UPDATE to 1.\n",
      "  check_for_updates()\n"
     ]
    }
   ],
   "source": [
    "import os\n",
    "import numpy as np\n",
    "import pandas as pd\n",
    "import cv2\n",
    "import matplotlib.pyplot as plt\n",
    "\n",
    "import torch\n",
    "import torch.nn as nn\n",
    "import torch.optim as optim\n",
    "from torch.optim.lr_scheduler import CosineAnnealingWarmRestarts\n",
    "from torch.utils.data import DataLoader, WeightedRandomSampler\n",
    "from torchvision import transforms\n",
    "from sklearn.metrics import roc_auc_score, average_precision_score, f1_score\n",
    "\n",
    "from efficientnet_pytorch import EfficientNet\n",
    "import albumentations as A\n",
    "from albumentations.pytorch import ToTensorV2\n",
    "from tqdm import tqdm\n",
    "\n",
    "# Custom DataLoader (Assuming you have this defined)\n",
    "from DataLoader import Data_Loader, ImageDataset"
   ]
  },
  {
   "cell_type": "code",
   "execution_count": null,
   "metadata": {},
   "outputs": [],
   "source": [
    "# download data set\n",
    "import kagglehub\n",
    "\n",
    "# Download latest version\n",
    "path = kagglehub.dataset_download(\"cdeotte/jpeg-melanoma-512x512\")\n",
    "\n",
    "print(\"Path to dataset files:\", path)"
   ]
  },
  {
   "cell_type": "code",
   "execution_count": 2,
   "metadata": {},
   "outputs": [
    {
     "data": {
      "text/html": [
       "<div>\n",
       "<style scoped>\n",
       "    .dataframe tbody tr th:only-of-type {\n",
       "        vertical-align: middle;\n",
       "    }\n",
       "\n",
       "    .dataframe tbody tr th {\n",
       "        vertical-align: top;\n",
       "    }\n",
       "\n",
       "    .dataframe thead th {\n",
       "        text-align: right;\n",
       "    }\n",
       "</style>\n",
       "<table border=\"1\" class=\"dataframe\">\n",
       "  <thead>\n",
       "    <tr style=\"text-align: right;\">\n",
       "      <th></th>\n",
       "      <th>image_name</th>\n",
       "      <th>patient_id</th>\n",
       "      <th>sex</th>\n",
       "      <th>age_approx</th>\n",
       "      <th>anatom_site_general_challenge</th>\n",
       "      <th>diagnosis</th>\n",
       "      <th>benign_malignant</th>\n",
       "      <th>target</th>\n",
       "    </tr>\n",
       "  </thead>\n",
       "  <tbody>\n",
       "    <tr>\n",
       "      <th>0</th>\n",
       "      <td>ISIC_2637011</td>\n",
       "      <td>IP_7279968</td>\n",
       "      <td>male</td>\n",
       "      <td>45.0</td>\n",
       "      <td>head/neck</td>\n",
       "      <td>unknown</td>\n",
       "      <td>benign</td>\n",
       "      <td>0</td>\n",
       "    </tr>\n",
       "    <tr>\n",
       "      <th>1</th>\n",
       "      <td>ISIC_0015719</td>\n",
       "      <td>IP_3075186</td>\n",
       "      <td>female</td>\n",
       "      <td>45.0</td>\n",
       "      <td>upper extremity</td>\n",
       "      <td>unknown</td>\n",
       "      <td>benign</td>\n",
       "      <td>0</td>\n",
       "    </tr>\n",
       "    <tr>\n",
       "      <th>2</th>\n",
       "      <td>ISIC_0052212</td>\n",
       "      <td>IP_2842074</td>\n",
       "      <td>female</td>\n",
       "      <td>50.0</td>\n",
       "      <td>lower extremity</td>\n",
       "      <td>nevus</td>\n",
       "      <td>benign</td>\n",
       "      <td>0</td>\n",
       "    </tr>\n",
       "    <tr>\n",
       "      <th>3</th>\n",
       "      <td>ISIC_0068279</td>\n",
       "      <td>IP_6890425</td>\n",
       "      <td>female</td>\n",
       "      <td>45.0</td>\n",
       "      <td>head/neck</td>\n",
       "      <td>unknown</td>\n",
       "      <td>benign</td>\n",
       "      <td>0</td>\n",
       "    </tr>\n",
       "    <tr>\n",
       "      <th>4</th>\n",
       "      <td>ISIC_0074268</td>\n",
       "      <td>IP_8723313</td>\n",
       "      <td>female</td>\n",
       "      <td>55.0</td>\n",
       "      <td>upper extremity</td>\n",
       "      <td>unknown</td>\n",
       "      <td>benign</td>\n",
       "      <td>0</td>\n",
       "    </tr>\n",
       "  </tbody>\n",
       "</table>\n",
       "</div>"
      ],
      "text/plain": [
       "     image_name  patient_id     sex  age_approx anatom_site_general_challenge  \\\n",
       "0  ISIC_2637011  IP_7279968    male        45.0                     head/neck   \n",
       "1  ISIC_0015719  IP_3075186  female        45.0               upper extremity   \n",
       "2  ISIC_0052212  IP_2842074  female        50.0               lower extremity   \n",
       "3  ISIC_0068279  IP_6890425  female        45.0                     head/neck   \n",
       "4  ISIC_0074268  IP_8723313  female        55.0               upper extremity   \n",
       "\n",
       "  diagnosis benign_malignant  target  \n",
       "0   unknown           benign       0  \n",
       "1   unknown           benign       0  \n",
       "2     nevus           benign       0  \n",
       "3   unknown           benign       0  \n",
       "4   unknown           benign       0  "
      ]
     },
     "execution_count": 2,
     "metadata": {},
     "output_type": "execute_result"
    }
   ],
   "source": [
    "train_df = pd.read_csv('data/train.csv')  \n",
    "train_df = train_df.drop(['tfrecord','width','height'],axis=1)\n",
    "train_df.head()"
   ]
  },
  {
   "cell_type": "code",
   "execution_count": 3,
   "metadata": {},
   "outputs": [
    {
     "data": {
      "text/plain": [
       "(33126, 8)"
      ]
     },
     "execution_count": 3,
     "metadata": {},
     "output_type": "execute_result"
    }
   ],
   "source": [
    "train_df.shape"
   ]
  },
  {
   "cell_type": "code",
   "execution_count": 4,
   "metadata": {},
   "outputs": [],
   "source": [
    "# split the data to fold\n",
    "from sklearn import model_selection\n",
    "\n",
    "\n",
    "df = train_df.sample(frac=1).reset_index(drop=True) #shuffles the entire dataset randomly.\n",
    "df['kfold'] = -1 #adds a new column 'kfold' to the dataframe and initializes all values to -1.\n",
    "y = train_df.target.values\n",
    "kf = model_selection.StratifiedKFold(n_splits=5,shuffle=True,random_state=32) #creates a StratifiedKFold object with 5 splits.\n",
    "\n",
    "for fold,(x,y) in enumerate(kf.split(X=df,y=y)):\n",
    "    df.loc[y,'kfold'] = fold\n",
    "df.to_csv('train_fold_tpu.csv',index=False)"
   ]
  },
  {
   "cell_type": "code",
   "execution_count": 2,
   "metadata": {},
   "outputs": [
    {
     "data": {
      "text/html": [
       "<div>\n",
       "<style scoped>\n",
       "    .dataframe tbody tr th:only-of-type {\n",
       "        vertical-align: middle;\n",
       "    }\n",
       "\n",
       "    .dataframe tbody tr th {\n",
       "        vertical-align: top;\n",
       "    }\n",
       "\n",
       "    .dataframe thead th {\n",
       "        text-align: right;\n",
       "    }\n",
       "</style>\n",
       "<table border=\"1\" class=\"dataframe\">\n",
       "  <thead>\n",
       "    <tr style=\"text-align: right;\">\n",
       "      <th></th>\n",
       "      <th>image_name</th>\n",
       "      <th>patient_id</th>\n",
       "      <th>sex</th>\n",
       "      <th>age_approx</th>\n",
       "      <th>anatom_site_general_challenge</th>\n",
       "      <th>diagnosis</th>\n",
       "      <th>benign_malignant</th>\n",
       "      <th>target</th>\n",
       "      <th>kfold</th>\n",
       "    </tr>\n",
       "  </thead>\n",
       "  <tbody>\n",
       "    <tr>\n",
       "      <th>0</th>\n",
       "      <td>ISIC_0296109</td>\n",
       "      <td>IP_3970734</td>\n",
       "      <td>male</td>\n",
       "      <td>40.0</td>\n",
       "      <td>torso</td>\n",
       "      <td>unknown</td>\n",
       "      <td>benign</td>\n",
       "      <td>0</td>\n",
       "      <td>1</td>\n",
       "    </tr>\n",
       "    <tr>\n",
       "      <th>1</th>\n",
       "      <td>ISIC_2589797</td>\n",
       "      <td>IP_9122609</td>\n",
       "      <td>male</td>\n",
       "      <td>65.0</td>\n",
       "      <td>torso</td>\n",
       "      <td>unknown</td>\n",
       "      <td>benign</td>\n",
       "      <td>0</td>\n",
       "      <td>3</td>\n",
       "    </tr>\n",
       "    <tr>\n",
       "      <th>2</th>\n",
       "      <td>ISIC_3448409</td>\n",
       "      <td>IP_5867829</td>\n",
       "      <td>male</td>\n",
       "      <td>50.0</td>\n",
       "      <td>upper extremity</td>\n",
       "      <td>unknown</td>\n",
       "      <td>benign</td>\n",
       "      <td>0</td>\n",
       "      <td>4</td>\n",
       "    </tr>\n",
       "    <tr>\n",
       "      <th>3</th>\n",
       "      <td>ISIC_1493314</td>\n",
       "      <td>IP_2394927</td>\n",
       "      <td>male</td>\n",
       "      <td>45.0</td>\n",
       "      <td>lower extremity</td>\n",
       "      <td>nevus</td>\n",
       "      <td>benign</td>\n",
       "      <td>0</td>\n",
       "      <td>1</td>\n",
       "    </tr>\n",
       "    <tr>\n",
       "      <th>4</th>\n",
       "      <td>ISIC_7649562</td>\n",
       "      <td>IP_4295309</td>\n",
       "      <td>male</td>\n",
       "      <td>60.0</td>\n",
       "      <td>palms/soles</td>\n",
       "      <td>unknown</td>\n",
       "      <td>benign</td>\n",
       "      <td>0</td>\n",
       "      <td>1</td>\n",
       "    </tr>\n",
       "  </tbody>\n",
       "</table>\n",
       "</div>"
      ],
      "text/plain": [
       "     image_name  patient_id   sex  age_approx anatom_site_general_challenge  \\\n",
       "0  ISIC_0296109  IP_3970734  male        40.0                         torso   \n",
       "1  ISIC_2589797  IP_9122609  male        65.0                         torso   \n",
       "2  ISIC_3448409  IP_5867829  male        50.0               upper extremity   \n",
       "3  ISIC_1493314  IP_2394927  male        45.0               lower extremity   \n",
       "4  ISIC_7649562  IP_4295309  male        60.0                   palms/soles   \n",
       "\n",
       "  diagnosis benign_malignant  target  kfold  \n",
       "0   unknown           benign       0      1  \n",
       "1   unknown           benign       0      3  \n",
       "2   unknown           benign       0      4  \n",
       "3     nevus           benign       0      1  \n",
       "4   unknown           benign       0      1  "
      ]
     },
     "execution_count": 2,
     "metadata": {},
     "output_type": "execute_result"
    }
   ],
   "source": [
    "df = pd.read_csv('train_fold_tpu.csv')\n",
    "df.head()"
   ]
  },
  {
   "cell_type": "code",
   "execution_count": 3,
   "metadata": {},
   "outputs": [],
   "source": [
    "from efficientnet_pytorch import EfficientNet \n",
    "\n",
    "class EfficientNetClassifier(nn.Module):\n",
    "    def __init__(self, model_version='b4', num_classes=1, dropout_rate=0.3):\n",
    "        super(EfficientNetClassifier, self).__init__()\n",
    "        \n",
    "        model_name = f'efficientnet-{model_version}'\n",
    "        # Instance of the EfficientNet model with pre-trained weights\n",
    "        self.feature_extractor = EfficientNet.from_pretrained(model_name)\n",
    "        \n",
    "        # Get the number of input features from the last layer of EfficientNet\n",
    "        num_features = self.feature_extractor._fc.in_features\n",
    "        \n",
    "        self.classifier = nn.Sequential(\n",
    "            nn.Dropout(0.5),  # Increased dropout\n",
    "            nn.Linear(num_features, 512),\n",
    "            nn.BatchNorm1d(512),\n",
    "            nn.ReLU(),\n",
    "            nn.Dropout(0.5),\n",
    "            nn.Linear(512, 256),\n",
    "            nn.BatchNorm1d(256),\n",
    "            nn.ReLU(),\n",
    "            nn.Dropout(0.5),  # Increased dropout\n",
    "            nn.Linear(256, num_classes)\n",
    "        )\n",
    "        \n",
    "    def forward(self, images):\n",
    "        batch_size = images.shape[0]\n",
    "        \n",
    "        # Pass images through the pre-trained EfficientNet feature extractor\n",
    "        features = self.feature_extractor.extract_features(images)\n",
    "        \n",
    "        # Pool and reshape features\n",
    "        # Reduce the spatial dimensions of the features (e.g., [batch_size, channels, height, width] -> [batch_size, channels])\n",
    "        pooled_features = nn.functional.adaptive_avg_pool2d(features, 1).reshape(batch_size, -1)\n",
    "        \n",
    "        #  Pass the pooled features through the sequential classification layers\n",
    "        output = self.classifier(pooled_features)\n",
    "        \n",
    "        return output  # Return logits directly"
   ]
  },
  {
   "cell_type": "code",
   "execution_count": 4,
   "metadata": {},
   "outputs": [],
   "source": [
    "from torchvision.models import mobilenet_v2\n",
    "\n",
    "class MobileNetV2Classifier(nn.Module):\n",
    "    def __init__(self, num_classes=1, dropout_rate=0.3):\n",
    "        super(MobileNetV2Classifier, self).__init__()\n",
    "        \n",
    "        # Load a pre-trained MobileNetV2 model\n",
    "        self.feature_extractor = mobilenet_v2(weights='MobileNet_V2_Weights.DEFAULT')\n",
    "        \n",
    "        # Get the number of input features from the last layer of MobileNetV2\n",
    "        num_features = self.feature_extractor.last_channel\n",
    "        \n",
    "        # Remove the classifier part of the pre-trained model\n",
    "        self.feature_extractor = nn.Sequential(*list(self.feature_extractor.children())[:-1])\n",
    "        \n",
    "        # Define a custom classifier\n",
    "        self.classifier = nn.Sequential(\n",
    "            nn.Dropout(dropout_rate),\n",
    "            nn.Linear(num_features, 512),\n",
    "            nn.BatchNorm1d(512),\n",
    "            nn.ReLU(),\n",
    "            nn.Dropout(dropout_rate),\n",
    "            nn.Linear(512, 256),\n",
    "            nn.BatchNorm1d(256),\n",
    "            nn.ReLU(),\n",
    "            nn.Dropout(dropout_rate),\n",
    "            nn.Linear(256, num_classes)\n",
    "        )\n",
    "        \n",
    "    def forward(self, images):\n",
    "        batch_size = images.size(0)\n",
    "        \n",
    "        # Extract features using the MobileNetV2 model\n",
    "        features = self.feature_extractor(images)\n",
    "        features = features.mean([2, 3])  # Global Average Pooling\n",
    "        \n",
    "        # Pass pooled features through the classifier\n",
    "        output = self.classifier(features)\n",
    "        \n",
    "        return output  # Return logits directly\n"
   ]
  },
  {
   "cell_type": "code",
   "execution_count": 5,
   "metadata": {},
   "outputs": [
    {
     "name": "stdout",
     "output_type": "stream",
     "text": [
      "Loaded pretrained weights for efficientnet-b0\n"
     ]
    }
   ],
   "source": [
    "modelEffNet = EfficientNetClassifier(model_version='b0', num_classes=1, dropout_rate=0.5)\n",
    "modelMobileNet = MobileNetV2Classifier()\n",
    "\n",
    "class EarlyStopping:\n",
    "    def __init__(self, patience=7, mode=\"min\", delta=0):\n",
    "        self.patience = patience\n",
    "        self.counter = 0\n",
    "        self.mode = mode\n",
    "        self.best_score = None\n",
    "        self.early_stop = False\n",
    "        self.delta = delta\n",
    "\n",
    "    def __call__(self, score):\n",
    "        if self.best_score is None:\n",
    "            self.best_score = score\n",
    "        elif (self.mode == \"min\" and score > self.best_score - self.delta) or \\\n",
    "             (self.mode == \"max\" and score < self.best_score + self.delta):\n",
    "            self.counter += 1\n",
    "            if self.counter >= self.patience:\n",
    "                self.early_stop = True\n",
    "        else:\n",
    "            self.best_score = score\n",
    "            self.counter = 0\n",
    "        return self.early_stop\n",
    "\n",
    "# Configuration Parameters\n",
    "CONFIG = {\n",
    "    'normalization_mean': (0.485, 0.456, 0.406),\n",
    "    'normalization_std': (0.229, 0.224, 0.225),\n",
    "    'image_size': (384, 384),\n",
    "    'batch_size': 28,\n",
    "    'num_epochs': 3,\n",
    "    'learning_rate': 3e-5,\n",
    "    'weight_decay': 1e-4,\n",
    "    'early_stopping_patience': 5,\n",
    "}\n",
    "\n",
    "# Define Focal Loss function\n",
    "class FocalLoss(nn.Module):\n",
    "    def __init__(self, alpha=1.5, gamma=2.0, reduction='mean'):\n",
    "        super(FocalLoss, self).__init__()\n",
    "        self.alpha = alpha\n",
    "        self.gamma = gamma\n",
    "        self.reduction = reduction\n",
    "\n",
    "    def forward(self, inputs, targets):\n",
    "        BCE_loss = nn.BCEWithLogitsLoss(reduction='none')(inputs, targets)\n",
    "        pt = torch.exp(-BCE_loss)\n",
    "        F_loss = self.alpha * (1 - pt) ** self.gamma * BCE_loss\n",
    "        \n",
    "        if self.reduction == 'mean':\n",
    "            return F_loss.mean()\n",
    "        elif self.reduction == 'sum':\n",
    "            return F_loss.sum()\n",
    "        else:\n",
    "            return F_loss"
   ]
  },
  {
   "cell_type": "code",
   "execution_count": 6,
   "metadata": {},
   "outputs": [],
   "source": [
    "# Training epoch function with AMP and debug for batch size\n",
    "def train_epoch(model, dataloader, criterion, optimizer, device, scaler):\n",
    "    model.train()\n",
    "    total_loss = 0\n",
    "    predictions = []\n",
    "    targets = []\n",
    "\n",
    "    for batch_idx, (data, labels) in enumerate(tqdm(dataloader)):\n",
    "        # Print batch size for debugging\n",
    "        # print(f\"Training Batch {batch_idx} - Batch size: {data.shape[0]}\")\n",
    "        \n",
    "        data, labels = data.to(device), labels.to(device)\n",
    "        \n",
    "        optimizer.zero_grad()\n",
    "        \n",
    "        # Use AMP for mixed precision training\n",
    "        with torch.amp.autocast(\"cuda\"):\n",
    "            outputs = model(data)\n",
    "            loss = criterion(outputs, labels.unsqueeze(1))\n",
    "        \n",
    "        # Backward pass with AMP scaler\n",
    "        scaler.scale(loss).backward()\n",
    "        scaler.step(optimizer)\n",
    "        scaler.update()\n",
    "\n",
    "        total_loss += loss.item() * data.shape[0]\n",
    "        prob_outputs = torch.sigmoid(outputs).detach().cpu().numpy()\n",
    "        predictions.extend(prob_outputs.flatten())\n",
    "        targets.extend(labels.cpu().numpy())\n",
    "        \n",
    "    return total_loss / len(dataloader.dataset), predictions, targets\n",
    "\n",
    "# Validation epoch function with AMP and debug for batch size\n",
    "def validate_epoch(model, dataloader, criterion, device, scaler):\n",
    "    model.eval()\n",
    "    total_loss = 0\n",
    "    predictions = []\n",
    "    targets = []\n",
    "    \n",
    "    with torch.no_grad():\n",
    "        for batch_idx, (data, labels) in enumerate(tqdm(dataloader)):\n",
    "            # Print batch size for debugging\n",
    "            # print(f\"Validation Batch {batch_idx} - Batch size: {data.shape[0]}\")\n",
    "            \n",
    "            data, labels = data.to(device), labels.to(device)\n",
    "            \n",
    "            # Use AMP for mixed precision inference\n",
    "            with torch.amp.autocast('cuda'):\n",
    "                outputs = model(data)\n",
    "                loss = criterion(outputs, labels.unsqueeze(1))\n",
    "            \n",
    "            total_loss += loss.item() * data.shape[0]\n",
    "            prob_outputs = torch.sigmoid(outputs).detach().cpu().numpy()\n",
    "            predictions.extend(prob_outputs.flatten())\n",
    "            targets.extend(labels.cpu().numpy())\n",
    "    \n",
    "    return total_loss / len(dataloader.dataset), predictions, targets"
   ]
  },
  {
   "cell_type": "code",
   "execution_count": 7,
   "metadata": {},
   "outputs": [],
   "source": [
    "def get_train_transforms():\n",
    "    return A.Compose([\n",
    "        A.Normalize(mean=CONFIG['normalization_mean'], std=CONFIG['normalization_std'], max_pixel_value=255.0),\n",
    "        A.ShiftScaleRotate(shift_limit=0.1, scale_limit=0.2, rotate_limit=30, p=0.7),\n",
    "        A.HorizontalFlip(p=0.5),\n",
    "        A.VerticalFlip(p=0.5),\n",
    "        A.RandomBrightnessContrast(brightness_limit=0.2, contrast_limit=0.2, p=0.75),\n",
    "        A.CLAHE(clip_limit=4.0, p=0.7),\n",
    "        ToTensorV2(),\n",
    "    ])\n",
    "\n",
    "def get_valid_transforms():\n",
    "    return A.Compose([\n",
    "        A.Normalize(mean=CONFIG['normalization_mean'], std=CONFIG['normalization_std'], max_pixel_value=255.0),\n",
    "        ToTensorV2(),\n",
    "    ])\n",
    "\n",
    "\n",
    "def train_model(model, train_fold, df):\n",
    "    device = torch.device(\"cuda\" if torch.cuda.is_available() else \"cpu\")\n",
    "    # Load data transformations\n",
    "    train_transforms = get_train_transforms()\n",
    "    valid_transforms = get_valid_transforms()\n",
    "    \n",
    "    # Prepare training and validation datasets\n",
    "    image_directory = 'data/train'\n",
    "    train_df = df[df.kfold != train_fold].reset_index(drop=True)\n",
    "    valid_df = df[df.kfold == train_fold].reset_index(drop=True)\n",
    "\n",
    "    train_dataset = Data_Loader(image_directory, train_df.image_name.tolist(), train_df.target.values, train_transforms).dataset\n",
    "    valid_dataset = Data_Loader(image_directory, valid_df.image_name.tolist(), valid_df.target.values, valid_transforms).dataset\n",
    "\n",
    "    # WeightedRandomSampler for handling class imbalance\n",
    "    class_sample_counts = train_df['target'].value_counts().sort_index().values\n",
    "    class_weights = 1. / torch.tensor(class_sample_counts, dtype=torch.float)\n",
    "    sample_weights = class_weights[train_df['target'].values]\n",
    "    weighted_sampler = WeightedRandomSampler(weights=sample_weights, num_samples=len(sample_weights), replacement=True)\n",
    "\n",
    "    # DataLoader with WeightedRandomSampler for training\n",
    "    train_loader = torch.utils.data.DataLoader(\n",
    "        train_dataset, num_workers=4, pin_memory=True, batch_size=CONFIG['batch_size'],sampler=weighted_sampler, drop_last=True)\n",
    "    valid_loader = torch.utils.data.DataLoader(\n",
    "        valid_dataset, num_workers=4, pin_memory=True, batch_size=CONFIG['batch_size'], shuffle=False,drop_last=True)\n",
    "    \n",
    "    model.to(device)\n",
    "    loss_criterion = FocalLoss(alpha=0.5, gamma=2.0).to(device)\n",
    "\n",
    "    # Use AdamW optimizer with weight decay for better generalization\n",
    "    optimizer = optim.AdamW(model.parameters(), lr=CONFIG['learning_rate'], weight_decay=CONFIG['weight_decay'])\n",
    "\n",
    "    # Scheduler: CosineAnnealingWarmRestarts or ReduceLROnPlateau\n",
    "    scheduler = CosineAnnealingWarmRestarts(optimizer, T_0=10, T_mult=2, eta_min=1e-6)\n",
    "\n",
    "    # Initialize AMP scaler\n",
    "    scaler = torch.amp.GradScaler('cuda')\n",
    "\n",
    "    best_valid_pr_auc = 0.0\n",
    "    best_model = None\n",
    "    no_improve_epochs = 0\n",
    "\n",
    "    for epoch in range(CONFIG['num_epochs']):\n",
    "        # Training phase\n",
    "        model.train()\n",
    "        train_loss, train_predictions, train_targets = train_epoch(model, train_loader, loss_criterion, optimizer, device, scaler)\n",
    "        \n",
    "        # Validation phase\n",
    "        model.eval()\n",
    "        valid_loss, valid_predictions, valid_targets = validate_epoch(model, valid_loader, loss_criterion, device, scaler)\n",
    "        \n",
    "        # Calculate PR AUC scores\n",
    "        train_pr_auc = average_precision_score(train_targets, train_predictions)\n",
    "        valid_pr_auc = average_precision_score(valid_targets, valid_predictions)\n",
    "        train_f1 = f1_score(train_targets, np.round(train_predictions), pos_label=1, zero_division=0)\n",
    "        valid_f1 = f1_score(valid_targets, np.round(valid_predictions), pos_label=1, zero_division=0)\n",
    "        print(f\"Train F1-Score: {train_f1:.6f}\")\n",
    "        print(f\"Valid F1-Score: {valid_f1:.6f}\")\n",
    "\n",
    "        print(f\"Epoch {epoch+1}/{CONFIG['num_epochs']}: Train Loss: {train_loss:.4f}, Train PR AUC: {train_pr_auc:.6f}, Valid Loss: {valid_loss:.4f}, Valid PR AUC: {valid_pr_auc:.6f}\")\n",
    "\n",
    "        # Update learning rate scheduler\n",
    "        scheduler.step()  # If using CosineAnnealingWarmRestarts\n",
    "        # scheduler.step(valid_pr_auc)  # If using ReduceLROnPlateau, use validation PR AUC to trigger adjustments\n",
    "        \n",
    "        # Save the best model based on validation PR AUC\n",
    "        if valid_pr_auc > best_valid_pr_auc:\n",
    "            best_valid_pr_auc = valid_pr_auc\n",
    "            best_model = model.state_dict().copy()\n",
    "            no_improve_epochs = 0\n",
    "            print(\"New best model saved based on validation PR AUC\")\n",
    "        else:\n",
    "            no_improve_epochs += 1\n",
    "        \n",
    "        # Early stopping condition\n",
    "        if no_improve_epochs >= CONFIG['early_stopping_patience']:\n",
    "            print(f\"Early stopping triggered after {epoch+1} epochs with no improvement in PR AUC\")\n",
    "            break\n",
    "\n",
    "        torch.cuda.empty_cache()\n",
    "    \n",
    "    model.load_state_dict(best_model)\n",
    "    return model, best_model, valid_f1\n",
    "\n"
   ]
  },
  {
   "cell_type": "code",
   "execution_count": 17,
   "metadata": {},
   "outputs": [
    {
     "name": "stderr",
     "output_type": "stream",
     "text": [
      "100%|██████████| 946/946 [01:50<00:00,  8.59it/s]\n",
      "100%|██████████| 236/236 [00:19<00:00, 12.27it/s]\n"
     ]
    },
    {
     "name": "stdout",
     "output_type": "stream",
     "text": [
      "Train F1-Score: 0.976983\n",
      "Valid F1-Score: 0.995671\n",
      "Epoch 1/3: Train Loss: 0.0087, Train PR AUC: 0.998180, Valid Loss: 0.0002, Valid PR AUC: 1.000000\n",
      "New best model saved based on validation PR AUC\n"
     ]
    },
    {
     "name": "stderr",
     "output_type": "stream",
     "text": [
      "100%|██████████| 946/946 [01:46<00:00,  8.90it/s]\n",
      "100%|██████████| 236/236 [00:18<00:00, 12.67it/s]\n"
     ]
    },
    {
     "name": "stdout",
     "output_type": "stream",
     "text": [
      "Train F1-Score: 0.997635\n",
      "Valid F1-Score: 1.000000\n",
      "Epoch 2/3: Train Loss: 0.0015, Train PR AUC: 0.999823, Valid Loss: 0.0001, Valid PR AUC: 1.000000\n"
     ]
    },
    {
     "name": "stderr",
     "output_type": "stream",
     "text": [
      "100%|██████████| 946/946 [01:47<00:00,  8.83it/s]\n",
      "100%|██████████| 236/236 [00:18<00:00, 12.67it/s]\n"
     ]
    },
    {
     "name": "stdout",
     "output_type": "stream",
     "text": [
      "Train F1-Score: 0.999014\n",
      "Valid F1-Score: 1.000000\n",
      "Epoch 3/3: Train Loss: 0.0008, Train PR AUC: 0.999984, Valid Loss: 0.0001, Valid PR AUC: 1.000000\n"
     ]
    },
    {
     "name": "stderr",
     "output_type": "stream",
     "text": [
      "100%|██████████| 946/946 [01:46<00:00,  8.88it/s]\n",
      "100%|██████████| 236/236 [00:18<00:00, 12.57it/s]\n"
     ]
    },
    {
     "name": "stdout",
     "output_type": "stream",
     "text": [
      "Train F1-Score: 0.999661\n",
      "Valid F1-Score: 1.000000\n",
      "Epoch 1/3: Train Loss: 0.0003, Train PR AUC: 0.999998, Valid Loss: 0.0000, Valid PR AUC: 1.000000\n",
      "New best model saved based on validation PR AUC\n"
     ]
    },
    {
     "name": "stderr",
     "output_type": "stream",
     "text": [
      "100%|██████████| 946/946 [01:47<00:00,  8.77it/s]\n",
      "100%|██████████| 236/236 [00:19<00:00, 12.30it/s]\n"
     ]
    },
    {
     "name": "stdout",
     "output_type": "stream",
     "text": [
      "Train F1-Score: 0.999584\n",
      "Valid F1-Score: 1.000000\n",
      "Epoch 2/3: Train Loss: 0.0002, Train PR AUC: 0.999999, Valid Loss: 0.0000, Valid PR AUC: 1.000000\n"
     ]
    },
    {
     "name": "stderr",
     "output_type": "stream",
     "text": [
      "100%|██████████| 946/946 [01:46<00:00,  8.91it/s]\n",
      "100%|██████████| 236/236 [00:18<00:00, 12.43it/s]\n"
     ]
    },
    {
     "name": "stdout",
     "output_type": "stream",
     "text": [
      "Train F1-Score: 0.999733\n",
      "Valid F1-Score: 1.000000\n",
      "Epoch 3/3: Train Loss: 0.0001, Train PR AUC: 1.000000, Valid Loss: 0.0000, Valid PR AUC: 1.000000\n"
     ]
    },
    {
     "name": "stderr",
     "output_type": "stream",
     "text": [
      "100%|██████████| 946/946 [01:45<00:00,  8.93it/s]\n",
      "100%|██████████| 236/236 [00:18<00:00, 12.53it/s]\n"
     ]
    },
    {
     "name": "stdout",
     "output_type": "stream",
     "text": [
      "Train F1-Score: 0.999811\n",
      "Valid F1-Score: 1.000000\n",
      "Epoch 1/3: Train Loss: 0.0001, Train PR AUC: 0.999999, Valid Loss: 0.0000, Valid PR AUC: 1.000000\n",
      "New best model saved based on validation PR AUC\n"
     ]
    },
    {
     "name": "stderr",
     "output_type": "stream",
     "text": [
      "100%|██████████| 946/946 [01:46<00:00,  8.92it/s]\n",
      "100%|██████████| 236/236 [00:18<00:00, 12.50it/s]\n"
     ]
    },
    {
     "name": "stdout",
     "output_type": "stream",
     "text": [
      "Train F1-Score: 1.000000\n",
      "Valid F1-Score: 1.000000\n",
      "Epoch 2/3: Train Loss: 0.0000, Train PR AUC: 1.000000, Valid Loss: 0.0000, Valid PR AUC: 1.000000\n"
     ]
    },
    {
     "name": "stderr",
     "output_type": "stream",
     "text": [
      "100%|██████████| 946/946 [01:46<00:00,  8.91it/s]\n",
      "100%|██████████| 236/236 [00:18<00:00, 12.67it/s]\n"
     ]
    },
    {
     "name": "stdout",
     "output_type": "stream",
     "text": [
      "Train F1-Score: 0.999847\n",
      "Valid F1-Score: 1.000000\n",
      "Epoch 3/3: Train Loss: 0.0000, Train PR AUC: 1.000000, Valid Loss: 0.0000, Valid PR AUC: 1.000000\n"
     ]
    },
    {
     "name": "stderr",
     "output_type": "stream",
     "text": [
      "100%|██████████| 946/946 [01:45<00:00,  8.93it/s]\n",
      "100%|██████████| 236/236 [00:18<00:00, 12.52it/s]\n"
     ]
    },
    {
     "name": "stdout",
     "output_type": "stream",
     "text": [
      "Train F1-Score: 0.999963\n",
      "Valid F1-Score: 1.000000\n",
      "Epoch 1/3: Train Loss: 0.0000, Train PR AUC: 1.000000, Valid Loss: 0.0000, Valid PR AUC: 1.000000\n",
      "New best model saved based on validation PR AUC\n"
     ]
    },
    {
     "name": "stderr",
     "output_type": "stream",
     "text": [
      "100%|██████████| 946/946 [01:45<00:00,  8.94it/s]\n",
      "100%|██████████| 236/236 [00:19<00:00, 12.42it/s]\n"
     ]
    },
    {
     "name": "stdout",
     "output_type": "stream",
     "text": [
      "Train F1-Score: 0.999849\n",
      "Valid F1-Score: 1.000000\n",
      "Epoch 2/3: Train Loss: 0.0001, Train PR AUC: 1.000000, Valid Loss: 0.0000, Valid PR AUC: 1.000000\n"
     ]
    },
    {
     "name": "stderr",
     "output_type": "stream",
     "text": [
      "100%|██████████| 946/946 [01:46<00:00,  8.91it/s]\n",
      "100%|██████████| 236/236 [00:18<00:00, 12.60it/s]\n"
     ]
    },
    {
     "name": "stdout",
     "output_type": "stream",
     "text": [
      "Train F1-Score: 0.999887\n",
      "Valid F1-Score: 1.000000\n",
      "Epoch 3/3: Train Loss: 0.0000, Train PR AUC: 1.000000, Valid Loss: 0.0000, Valid PR AUC: 1.000000\n"
     ]
    },
    {
     "name": "stderr",
     "output_type": "stream",
     "text": [
      "100%|██████████| 946/946 [01:45<00:00,  8.94it/s]\n",
      "100%|██████████| 236/236 [00:18<00:00, 12.57it/s]\n"
     ]
    },
    {
     "name": "stdout",
     "output_type": "stream",
     "text": [
      "Train F1-Score: 0.999925\n",
      "Valid F1-Score: 1.000000\n",
      "Epoch 1/3: Train Loss: 0.0000, Train PR AUC: 1.000000, Valid Loss: 0.0000, Valid PR AUC: 1.000000\n",
      "New best model saved based on validation PR AUC\n"
     ]
    },
    {
     "name": "stderr",
     "output_type": "stream",
     "text": [
      "100%|██████████| 946/946 [01:46<00:00,  8.91it/s]\n",
      "100%|██████████| 236/236 [00:19<00:00, 12.29it/s]\n"
     ]
    },
    {
     "name": "stdout",
     "output_type": "stream",
     "text": [
      "Train F1-Score: 1.000000\n",
      "Valid F1-Score: 1.000000\n",
      "Epoch 2/3: Train Loss: 0.0000, Train PR AUC: 1.000000, Valid Loss: 0.0000, Valid PR AUC: 1.000000\n"
     ]
    },
    {
     "name": "stderr",
     "output_type": "stream",
     "text": [
      "100%|██████████| 946/946 [01:45<00:00,  8.93it/s]\n",
      "100%|██████████| 236/236 [00:18<00:00, 12.58it/s]"
     ]
    },
    {
     "name": "stdout",
     "output_type": "stream",
     "text": [
      "Train F1-Score: 1.000000\n",
      "Valid F1-Score: 1.000000\n",
      "Epoch 3/3: Train Loss: 0.0000, Train PR AUC: 1.000000, Valid Loss: 0.0000, Valid PR AUC: 1.000000\n",
      "Average F1 score across different folds: 1.0000\n"
     ]
    },
    {
     "name": "stderr",
     "output_type": "stream",
     "text": [
      "\n"
     ]
    }
   ],
   "source": [
    "f1_arr = []\n",
    "model_type = modelMobileNet \n",
    "df = pd.read_csv('train_fold_tpu.csv')\n",
    "for i in range(5):\n",
    "    cur_model, best_model, model_f1 = train_model(model_type, i, df=df)\n",
    "    f1_arr.append(model_f1)\n",
    "    \n",
    "    # Save the model using a valid file name\n",
    "    torch.save(best_model, f'model/fold_{i}_MobileNet.pth')\n",
    "\n",
    "average_f1_score = np.mean(f1_arr)\n",
    "print(f\"Average F1 score across different folds: {average_f1_score:.4f}\")\n"
   ]
  },
  {
   "cell_type": "markdown",
   "metadata": {},
   "source": [
    "This is testing with ISSIC 2019 images to verify the accuracy of the model"
   ]
  },
  {
   "cell_type": "code",
   "execution_count": 22,
   "metadata": {},
   "outputs": [
    {
     "name": "stdout",
     "output_type": "stream",
     "text": [
      "Number of overlapping images: 0\n",
      "False Positives: 170\n",
      "False Negatives: 0\n",
      "Confusion Matrix:\n",
      "[[5719  170]\n",
      " [   0 4095]]\n"
     ]
    },
    {
     "data": {
      "image/png": "[encoded data removed]",
      "text/plain": [
       "<Figure size 640x480 with 2 Axes>"
      ]
     },
     "metadata": {},
     "output_type": "display_data"
    },
    {
     "name": "stdout",
     "output_type": "stream",
     "text": [
      "Precision-Recall AUC (PR AUC): 0.9999\n"
     ]
    }
   ],
   "source": [
    "import torch\n",
    "import pandas as pd\n",
    "import numpy as np\n",
    "import albumentations as A\n",
    "from albumentations.pytorch import ToTensorV2\n",
    "import matplotlib.pyplot as plt\n",
    "import cv2\n",
    "model = modelMobileNet\n",
    "# Load model weights\n",
    "model_path = \"model/fold_4_MobileNet.pth\"\n",
    "model.load_state_dict(torch.load(model_path,weights_only=True))\n",
    "device = 'cuda' if torch.cuda.is_available() else 'cpu'\n",
    "model.to(device)\n",
    "\n",
    "# Load the train dataset (ISIC 2020) and test dataset (ISIC 2019)\n",
    "df_train = pd.read_csv('data/train.csv')\n",
    "df_test = pd.read_csv('data/test_ISIC_2019/ISIC_2019_Training_GroundTruth.csv')\n",
    "\n",
    "# Rename and drop columns in the 2019 dataset\n",
    "df_test.rename(columns={\"MEL\": 'target'}, inplace=True)\n",
    "df_test.drop(columns=['NV', 'BCC', 'AK', 'BKL', 'DF', 'VASC', 'SCC', 'UNK'], inplace=True)\n",
    "\n",
    "#remove overlapping images\n",
    "common_images = set(df_train['image_name']).intersection(set(df_test['image']))\n",
    "print(f\"Number of overlapping images: {len(common_images)}\")\n",
    "# filter out the common images name\n",
    "df_test_filtered = df_test[\n",
    "    (~df_test['image'].isin(common_images)) & \n",
    "    (~df_test['image'].str.endswith('downsampled'))\n",
    "]\n",
    "\n",
    "\n",
    "# Determine the number of samples to take\n",
    "total_samples = 10000\n",
    "positive_samples = 4100  # Number of samples with target = 1\n",
    "negative_samples = total_samples - positive_samples\n",
    "\n",
    "# Sample positive and negative cases\n",
    "df_positive = df_test_filtered[df_test_filtered['target'] == 1].sample(n=positive_samples, random_state=23)\n",
    "df_negative = df_test_filtered[df_test_filtered['target'] == 0].sample(n=negative_samples, random_state=3)\n",
    "\n",
    "# Combine the sampled DataFrames\n",
    "df_sampled = pd.concat([df_positive, df_negative]).sample(frac=1, random_state=42).reset_index(drop=True)\n",
    "\n",
    "# Prepare image and target lists\n",
    "test_im = df_sampled.image.values.tolist()\n",
    "test_target = df_sampled.target.values.tolist()\n",
    "\n",
    "# Define validation transformations\n",
    "valid_transpose = A.Compose([\n",
    "    A.Normalize(mean=(0.485, 0.456, 0.406), std=(0.229, 0.224, 0.225), max_pixel_value=255.0, always_apply=True),\n",
    "    ToTensorV2()\n",
    "])\n",
    "\n",
    "# Loading validation dataset\n",
    "test_dataset = Data_Loader(\n",
    "    'data/test_ISIC_2019/ISIC_2019_Training_Input/ISIC_2019_Training_Input', \n",
    "    test_im, \n",
    "    test_target, \n",
    "    valid_transpose\n",
    ").get(batch_size=32, shuffle=False, num_workers=6)\n",
    "\n",
    "# Make predictions\n",
    "model.eval()\n",
    "all_predictions = []\n",
    "all_targets = []\n",
    "\n",
    "with torch.no_grad():\n",
    "    for images, targets in test_dataset:\n",
    "        images = images.to(device)\n",
    "        targets = targets.to(device)\n",
    "        outputs = model(images)\n",
    "        predictions = torch.sigmoid(outputs).cpu().numpy()\n",
    "        all_predictions.extend(predictions)\n",
    "        all_targets.extend(targets.cpu().numpy())\n",
    "\n",
    "# Convert predictions to binary\n",
    "binary_predictions = np.round(all_predictions).flatten()\n",
    "all_targets = np.array(all_targets)\n",
    "\n",
    "# Identify incorrect predictions\n",
    "false_positives = np.where((binary_predictions == 1) & (all_targets == 0))[0]\n",
    "false_negatives = np.where((binary_predictions == 0) & (all_targets == 1))[0]\n",
    "\n",
    "print(f\"False Positives: {len(false_positives)}\")\n",
    "print(f\"False Negatives: {len(false_negatives)}\")\n",
    "\n",
    "# Visualize the incorrect predictions with image name\n",
    "def visualize_incorrect(indices, title):\n",
    "    for idx in indices:\n",
    "        img_name = test_im[idx]\n",
    "        img_id = df_sampled.loc[idx, \"image\"]  # Assuming \"image\" column corresponds to ID\n",
    "        img_path = f'data/test_ISIC_2019/ISIC_2019_Training_Input/ISIC_2019_Training_Input/{img_name}.jpg'\n",
    "        img = cv2.imread(img_path)\n",
    "        img = cv2.cvtColor(img, cv2.COLOR_BGR2RGB)\n",
    "        \n",
    "        plt.figure(figsize=(4, 4))\n",
    "        plt.imshow(img)\n",
    "        plt.title(f\"{title}: True={test_target[idx]}, Predicted={binary_predictions[idx]}\\nImage Name: {img_name}, ID: {img_id}\")\n",
    "        plt.axis('off')\n",
    "        plt.show()\n",
    "\n",
    "\n",
    "# # Visualize false positives and false negatives\n",
    "# print(\"Visualizing False Positives:\")\n",
    "# visualize_incorrect(false_positives, \"False Positive\")\n",
    "\n",
    "# print(\"Visualizing False Negatives:\")\n",
    "# visualize_incorrect(false_negatives, \"False Negative\")\n",
    "\n",
    "from sklearn.metrics import confusion_matrix, ConfusionMatrixDisplay\n",
    "\n",
    "# Calculate the confusion matrix\n",
    "cm = confusion_matrix(all_targets, binary_predictions)\n",
    "\n",
    "# Print the confusion matrix values\n",
    "print(\"Confusion Matrix:\")\n",
    "print(cm)\n",
    "\n",
    "# Display the confusion matrix using matplotlib\n",
    "disp = ConfusionMatrixDisplay(confusion_matrix=cm, display_labels=[\"Non-Melanoma\", \"Melanoma\"])\n",
    "disp.plot(cmap=plt.cm.Blues)\n",
    "plt.title(\"Confusion Matrix\")\n",
    "plt.show()\n",
    "\n",
    "pr_auc = average_precision_score(all_targets, all_predictions)\n",
    "print(f\"Precision-Recall AUC (PR AUC): {pr_auc:.4f}\")\n",
    "\n"
   ]
  }
 ],
 "metadata": {
  "kernelspec": {
   "display_name": ".venv",
   "language": "python",
   "name": "python3"
  },
  "language_info": {
   "codemirror_mode": {
    "name": "ipython",
    "version": 3
   },
   "file_extension": ".py",
   "mimetype": "text/x-python",
   "name": "python",
   "nbconvert_exporter": "python",
   "pygments_lexer": "ipython3",
   "version": "3.10.5"
  }
 },
 "nbformat": 4,
 "nbformat_minor": 2
}
